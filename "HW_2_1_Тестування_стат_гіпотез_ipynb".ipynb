{
  "nbformat": 4,
  "nbformat_minor": 0,
  "metadata": {
    "colab": {
      "provenance": [],
      "include_colab_link": true
    },
    "kernelspec": {
      "name": "python3",
      "display_name": "Python 3"
    },
    "language_info": {
      "name": "python"
    }
  },
  "cells": [
    {
      "cell_type": "markdown",
      "metadata": {
        "id": "view-in-github",
        "colab_type": "text"
      },
      "source": [
        "<a href=\"https://colab.research.google.com/github/maverikod/vvz_ml_lessons/blob/main/%22HW_2_1_%D0%A2%D0%B5%D1%81%D1%82%D1%83%D0%B2%D0%B0%D0%BD%D0%BD%D1%8F_%D1%81%D1%82%D0%B0%D1%82_%D0%B3%D1%96%D0%BF%D0%BE%D1%82%D0%B5%D0%B7_ipynb%22.ipynb\" target=\"_parent\"><img src=\"https://colab.research.google.com/assets/colab-badge.svg\" alt=\"Open In Colab\"/></a>"
      ]
    },
    {
      "cell_type": "markdown",
      "source": [
        "В цьому ДЗ потренуємось виконувати Z-тести для тестування гіпотез в різних задачах. Для коректної імплементації та інтерпретації тестів рекоемндую переглянути спершу документацію:\n",
        "\n",
        "https://www.statsmodels.org/dev/generated/statsmodels.stats.weightstats.ztest.html\n",
        "\n",
        "### Завдання 1: Z-тест для однієї вибірки\n",
        "\n",
        "**Мета**: Перевірити, чи середнє значення вибірки відрізняється від гіпотетичного середнього.\n",
        "\n",
        "**Припущення**: Середній ріст студентів університету вважається 170 см. Ми хочемо перевірити, чи середній ріст випадкової вибірки студентів істотно більший. Вибірка задана в змінній `heights`.\n",
        "\n",
        "Для виконання завдання імпортуйте метод для проведення `ztest`, виконайте Z-тест з Python, виведіть p-value і зробіть заключення, чи справдилось припущення про середній зріст студентів на рівні значущості 0.05?\n",
        "\n",
        "Використовуємо тут Z-тест, оскільки вибірка достатньо велика (більше 30 екземплярів) і можемо вважати, що її стандартне відхилення близьке до ст. відхилення генеральної сукупності, а значить - відоме."
      ],
      "metadata": {
        "id": "ID3uSQHkQJ2J"
      }
    },
    {
      "cell_type": "code",
      "source": [
        "heights = [174, 171, 175, 179, 170, 170, 179, 175, 169, 174, 169, 169, 173, 162, 163, 169, 166,\n",
        "           173, 167, 164, 179, 170, 172, 164, 169, 175, 169, 174, 169, 169, 173, 162, 177]"
      ],
      "metadata": {
        "id": "TUYNSCDzRE7N"
      },
      "execution_count": null,
      "outputs": []
    },
    {
      "cell_type": "code",
      "source": [
        "from statsmodels.stats.weightstats import ztest\n",
        "z_stat,p_val = ztest(heights,value = 170)\n",
        "print(f\"z-stat: {round(z_stat,2)}\")\n",
        "print(f\"p-val: {round(p_val,4)}\")"
      ],
      "metadata": {
        "id": "uTJEZPARYMd4",
        "colab": {
          "base_uri": "https://localhost:8080/"
        },
        "outputId": "a4e1a450-18d1-4222-d016-330016e2ca21"
      },
      "execution_count": null,
      "outputs": [
        {
          "output_type": "stream",
          "name": "stdout",
          "text": [
            "z-stat: 0.85\n",
            "p-val: 0.3963\n"
          ]
        }
      ]
    },
    {
      "cell_type": "markdown",
      "source": [
        "p-val >> 0.05\n",
        "Гипотеза вірна. Середній зріст трохи більший за 170"
      ],
      "metadata": {
        "id": "JBjkBru92u8Q"
      }
    },
    {
      "cell_type": "markdown",
      "source": [
        "### Завдання 2: Z-тест для двох незалежних вибірок\n",
        "\n",
        "**Завдання 2.1.**\n",
        "\n",
        "**Мета**: Перевірити, чи існує статистична різниця між середніми оцінками двох груп студентів.\n",
        "\n",
        "**Припущення**: Група A отримала новий навчальний курс, а група B продовжувала зі стандартним курсом. Ми перевіряємо, чи є новий курс ефективнішим.\n",
        "\n",
        "Виконайте Z-тест з Python, виведіть p-value і зробіть заключення, чи справдилось припущення щодо студентів на рівні значущості 0.05?"
      ],
      "metadata": {
        "id": "ga4iKM9kQa9Q"
      }
    },
    {
      "cell_type": "code",
      "source": [
        "group_a_scores = [78.55, 72.25, 79.88, 75.  , 76.54, 74.99, 87.26, 77.93, 72.71,\n",
        "       82.11, 71.9 , 79.04, 68.2 , 71.36, 78.98, 81.69, 78.86, 77.42,\n",
        "       76.49, 70.61, 74.4 , 75.7 , 83.29, 79.72, 69.18, 79.62, 76.07,\n",
        "       74.62, 81.06, 83.15, 82.66, 73.8 , 76.45, 79.66, 82.88, 75.6 ,\n",
        "       77.07, 72.47, 72.02, 82.06]\n",
        "\n",
        "group_b_scores = [81.78, 74.64, 80.02, 76.81, 71.77, 76.81, 82.69, 74.82, 82.82,\n",
        "       61.9 , 79.11, 75.44, 73.5 , 75.46, 65.06, 73.9 , 76.79, 82.39,\n",
        "       72.41, 70.96, 72.49, 79.58, 76.64, 72.35, 77.57, 75.49, 79.84,\n",
        "       71.49, 73.36, 73.04, 67.68, 76.48, 76.31, 75.03, 73.83, 67.92,\n",
        "       72.9 , 73.29, 70.99, 74.19]"
      ],
      "metadata": {
        "id": "SngJjNBJTgBp"
      },
      "execution_count": null,
      "outputs": []
    },
    {
      "cell_type": "code",
      "source": [
        "z_stat,p_val = ztest(group_a_scores,group_b_scores,0)\n",
        "print(f\"z-stat: {round(z_stat,2)}\")\n",
        "print(f\"p-val: {round(p_val,4)}\")\n"
      ],
      "metadata": {
        "id": "CvftCAEHYPKL",
        "colab": {
          "base_uri": "https://localhost:8080/"
        },
        "outputId": "83281e5d-a5ae-4d18-ed8b-c8056d7c7c8c"
      },
      "execution_count": null,
      "outputs": [
        {
          "output_type": "stream",
          "name": "stdout",
          "text": [
            "z-stat: 2.36\n",
            "p-val: 0.0184\n"
          ]
        }
      ]
    },
    {
      "cell_type": "markdown",
      "source": [
        "Відхилення значуще. Новий навчальний курс більш еффективний, (більш ніж у 2.36 раза за похибку) вірогідність вибросу менша за 2%"
      ],
      "metadata": {
        "id": "YP8b4GUA4J7Z"
      }
    },
    {
      "cell_type": "markdown",
      "source": [
        "**Завдання 2.2.**\n",
        "\n",
        "\n",
        "**Мета**: Побачити, як впливає розмір вибірок на результат тесту.\n",
        "\n",
        "**Завдання**: Уявіть, що з групи А ми маємо тільки перші 5 записів, а з групи В - усі. Таке могло статись, якщо ми вже маємо результати тестів учнів за попередньою програмою, а тести за новою програмою здали наразі лише 5 учнів і ми вирішили не чекати довше.\n",
        "Виберіть перші 5 записів для групи А і проведіть t-test (для цього використовуємо наступний [метод](https://docs.scipy.org/doc/scipy/reference/generated/scipy.stats.ttest_ind.html)). Виведіть значення p-value. Зробіть висновок, який результат ви бачите щодо стат. значущості на рівні 0.05 для цього експерименту?\n",
        "\n",
        "Тут проводимо t-test оскільки одна з вибірок - дуже мала."
      ],
      "metadata": {
        "id": "zOxz2tU0VpJM"
      }
    },
    {
      "cell_type": "code",
      "source": [
        "from statsmodels.stats.weightstats import ttest_ind\n"
      ],
      "metadata": {
        "id": "D9znE6liYQmP"
      },
      "execution_count": 36,
      "outputs": []
    },
    {
      "cell_type": "code",
      "source": [
        "def check_par(num):\n",
        "  print(f\"====================={num}=======================\")\n",
        "  sub_group_a = group_a_scores[:num]\n",
        "  t_stat, p_val, df = ttest_ind(sub_group_a, group_b_scores, usevar='unequal')\n",
        "  print(f\"t-статистика: {round(t_stat, 2)}\")\n",
        "  print(f\"p-value: {round(p_val, 4)}\")\n",
        "  print(f\"Ступені свободи: {round(df)}\")\n"
      ],
      "metadata": {
        "id": "wM0OY1y-BNFc"
      },
      "execution_count": 40,
      "outputs": []
    },
    {
      "cell_type": "markdown",
      "source": [],
      "metadata": {
        "id": "UiCpcTksMjVN"
      }
    },
    {
      "cell_type": "code",
      "source": [
        "check_par(5)\n",
        "check_par(10)\n",
        "check_par(15)\n",
        "check_par(20)"
      ],
      "metadata": {
        "colab": {
          "base_uri": "https://localhost:8080/"
        },
        "id": "rLLBFYKxLlvj",
        "outputId": "4db98896-008e-49f7-f860-155b8843ede5"
      },
      "execution_count": 42,
      "outputs": [
        {
          "output_type": "stream",
          "name": "stdout",
          "text": [
            "=====================5=======================\n",
            "t-статистика: 1.12\n",
            "p-value: 0.3011\n",
            "Степени свободы: 7\n",
            "=====================10=======================\n",
            "t-статистика: 1.85\n",
            "p-value: 0.0852\n",
            "Степени свободы: 14\n",
            "=====================15=======================\n",
            "t-статистика: 1.18\n",
            "p-value: 0.2488\n",
            "Степени свободы: 24\n",
            "=====================20=======================\n",
            "t-статистика: 1.48\n",
            "p-value: 0.147\n",
            "Степени свободы: 38\n"
          ]
        }
      ]
    },
    {
      "cell_type": "markdown",
      "source": [
        "Зменшення вибірки розмивае розподіл\n",
        "При збілшенні ступенів свободи розподіл наближається до нормального. дисперсія зменшуєтся."
      ],
      "metadata": {
        "id": "4WfzjghmKj6u"
      }
    },
    {
      "cell_type": "markdown",
      "source": [
        "\n",
        "### Завдання 3\\*: Z-тест для двох **пов'язаних** вибірок\n",
        "\n",
        "**Мета**: Перевірити, чи вплинув тренінг на продуктивність працівників, коли всі справробітники проходили тренінг.\n",
        "\n",
        "**Припущення**: Наші працівники проходять однаковий тренінг, і ми хочемо з'ясувати, чи покращилися їхні показники після тренінгу на рівні значущості 0.05. Виконайте Z-тест з Python, виведіть p-value і зробіть заключення, чи поліпшились показники працівників на рівні значущості 0.05?\n",
        "\n",
        "Зверніть увагу, ці вибірки повʼязані між собою, значить не буде коректно виконати z-test між ними, натомість, ми можемо порівняти, чи різниця в результатах (продуктивності співробітників) є стат значущою."
      ],
      "metadata": {
        "id": "3TcRHLLz0SLw"
      }
    },
    {
      "cell_type": "code",
      "source": [
        "before_training = [57.82, 37.63, 36.8 , 55.22, 52.97, 52.5 , 53.46, 43.2 , 52.32,\n",
        "       52.93, 42.86, 68.66, 54.74, 38.09, 56.57, 40.25, 57.87, 61.59,\n",
        "       41.79, 59.63, 54.13, 58.22, 68.97, 47.55, 42.46, 41.1 , 41.84,\n",
        "       49.23, 53.41, 52.77]\n",
        "\n",
        "after_training = [62.47, 40.66, 42.7 , 57.69, 61.41, 56.76, 54.75, 44.06, 56.29,\n",
        "       55.48, 47.28, 72.6 , 57.59, 39.39, 56.54, 42.36, 62.58, 65.01,\n",
        "       42.3 , 62.98, 57.9 , 59.45, 72.28, 50.66, 43.18, 44.82, 45.96,\n",
        "       54.4 , 58.52, 53.01]"
      ],
      "metadata": {
        "id": "uxrjagJFW1GC"
      },
      "execution_count": 44,
      "outputs": []
    },
    {
      "cell_type": "code",
      "source": [
        "z_stat,p_val = ztest(before_training,after_training,usevar=\"pooled\")\n",
        "print(f\"z-stat: {round(z_stat,2)}\")\n",
        "print(f\"p-val: {round(p_val,4)}\")"
      ],
      "metadata": {
        "id": "NwCsN91OYSpN",
        "colab": {
          "base_uri": "https://localhost:8080/"
        },
        "outputId": "d396660c-f2d0-49c4-cd25-3f47e6605cda"
      },
      "execution_count": 49,
      "outputs": [
        {
          "output_type": "stream",
          "name": "stdout",
          "text": [
            "z-stat: -1.37\n",
            "p-val: 0.1717\n"
          ]
        }
      ]
    },
    {
      "cell_type": "markdown",
      "source": [
        "вибірка статистично не значуша p - занадто велике, набагато більш ніж 5%\n",
        "Ане не зрозуміло чому це не парний тест. Люди ж ті ж самі?"
      ],
      "metadata": {
        "id": "07RpKnf0RWvB"
      }
    },
    {
      "cell_type": "code",
      "source": [],
      "metadata": {
        "id": "BZ1bJVYTRwfO"
      },
      "execution_count": null,
      "outputs": []
    }
  ]
}